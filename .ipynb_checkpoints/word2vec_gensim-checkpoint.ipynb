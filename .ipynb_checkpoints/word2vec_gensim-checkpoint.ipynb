{
 "cells": [
  {
   "cell_type": "markdown",
   "id": "41f2ea8e",
   "metadata": {},
   "source": [
    "## 词向量"
   ]
  },
  {
   "cell_type": "code",
   "execution_count": 26,
   "id": "90ea46b6",
   "metadata": {},
   "outputs": [],
   "source": [
    "import pandas as pd\n",
    "import jieba\n",
    "from gensim.models.word2vec import Word2Vec"
   ]
  },
  {
   "cell_type": "markdown",
   "id": "9fb1d413",
   "metadata": {},
   "source": [
    "## 读入训练集文件"
   ]
  },
  {
   "cell_type": "code",
   "execution_count": 27,
   "id": "1fb3abf7",
   "metadata": {},
   "outputs": [],
   "source": [
    "data = pd.read_csv('train.csv')"
   ]
  },
  {
   "cell_type": "markdown",
   "id": "c24327a6",
   "metadata": {},
   "source": [
    "## 转字符串数组"
   ]
  },
  {
   "cell_type": "code",
   "execution_count": 28,
   "id": "db6f4478",
   "metadata": {},
   "outputs": [],
   "source": [
    "corpus = data['comment'].values.astype(str)"
   ]
  },
  {
   "cell_type": "markdown",
   "id": "0bd43eca",
   "metadata": {},
   "source": [
    "## 分词，再重组为字符串数组"
   ]
  },
  {
   "cell_type": "code",
   "execution_count": 29,
   "id": "b08be60d",
   "metadata": {},
   "outputs": [],
   "source": [
    "corpus = [jieba.lcut(corpus[index]\n",
    "                          .replace(\"，\", \"\")\n",
    "                          .replace(\"!\", \"\")\n",
    "                          .replace(\"！\", \"\")\n",
    "                          .replace(\"。\", \"\")\n",
    "                          .replace(\"~\", \"\")\n",
    "                          .replace(\"；\", \"\")\n",
    "                          .replace(\"？\", \"\")\n",
    "                          .replace(\"?\", \"\")\n",
    "                          .replace(\"【\", \"\")\n",
    "                          .replace(\"】\", \"\")\n",
    "                          .replace(\"#\", \"\")\n",
    "                        ) for index in range(len(corpus))]"
   ]
  },
  {
   "cell_type": "markdown",
   "id": "02266553",
   "metadata": {},
   "source": [
    "## 词向量模型训练"
   ]
  },
  {
   "cell_type": "code",
   "execution_count": 30,
   "id": "995e705c",
   "metadata": {},
   "outputs": [],
   "source": [
    "model = Word2Vec(corpus, sg=0, vector_size=300, window=5, min_count=3, workers=4)"
   ]
  },
  {
   "cell_type": "markdown",
   "id": "d6416476",
   "metadata": {},
   "source": [
    "## 模型显示"
   ]
  },
  {
   "cell_type": "code",
   "execution_count": 31,
   "id": "934c50d9",
   "metadata": {},
   "outputs": [
    {
     "name": "stdout",
     "output_type": "stream",
     "text": [
      "模型参数： Word2Vec<vocab=4036, vector_size=300, alpha=0.025> \n",
      "\n"
     ]
    }
   ],
   "source": [
    "print('模型参数：',model,'\\n')"
   ]
  },
  {
   "cell_type": "markdown",
   "id": "01e933e0",
   "metadata": {},
   "source": [
    "## 最匹配"
   ]
  },
  {
   "cell_type": "code",
   "execution_count": 32,
   "id": "44e9871c",
   "metadata": {},
   "outputs": [
    {
     "name": "stdout",
     "output_type": "stream",
     "text": [
      "最匹配的词是： [('位置', 0.9525783658027649), ('好找', 0.9377374649047852), ('好哟', 0.9319687485694885), ('清净', 0.93161541223526), ('可以', 0.9315567016601562), ('挺', 0.9281263947486877), ('值得', 0.9257136583328247), ('外带', 0.9255112409591675), ('足下', 0.9223265051841736), ('团购', 0.9219916462898254)] \n",
      "\n"
     ]
    }
   ],
   "source": [
    "print('最匹配的词是：',model.wv.most_similar(positive=['点赞', '不错'], negative=['难吃']),'\\n')"
   ]
  },
  {
   "cell_type": "markdown",
   "id": "5f549c69",
   "metadata": {},
   "source": [
    "## 最不匹配"
   ]
  },
  {
   "cell_type": "code",
   "execution_count": 33,
   "id": "c0ac45af",
   "metadata": {},
   "outputs": [],
   "source": [
    "#print('最不匹配的词是：',model.wv.doesnt_match(\"点赞 好吃 支持 难吃\".split()),'\\n')"
   ]
  },
  {
   "cell_type": "markdown",
   "id": "85e867a6",
   "metadata": {},
   "source": [
    "## 语义相似度"
   ]
  },
  {
   "cell_type": "code",
   "execution_count": 34,
   "id": "121b0bc0",
   "metadata": {},
   "outputs": [
    {
     "name": "stdout",
     "output_type": "stream",
     "text": [
      "相似度为= 0.40073776 \n",
      "\n"
     ]
    }
   ],
   "source": [
    "print('相似度为=',model.wv.similarity('蟑螂','好吃'),'\\n')"
   ]
  },
  {
   "cell_type": "markdown",
   "id": "4e2078b8",
   "metadata": {},
   "source": [
    "## 坐标返回"
   ]
  },
  {
   "cell_type": "code",
   "execution_count": 35,
   "id": "a4835dab",
   "metadata": {},
   "outputs": [
    {
     "name": "stdout",
     "output_type": "stream",
     "text": [
      "[ 0.00823887  0.10213076  0.04557922  0.07015198 -0.05315351 -0.08410066\n",
      "  0.10985084  0.28771788  0.01329898 -0.02518467]\n"
     ]
    }
   ],
   "source": [
    "print(model.wv.__getitem__('地道')[:10])"
   ]
  },
  {
   "cell_type": "code",
   "execution_count": 36,
   "id": "bbd28370",
   "metadata": {},
   "outputs": [
    {
     "name": "stdout",
     "output_type": "stream",
     "text": [
      "模型参数： Word2Vec<vocab=4036, vector_size=300, alpha=0.025> \n",
      "\n"
     ]
    }
   ],
   "source": [
    "# skip-gram 算法\n",
    "model = Word2Vec(corpus, sg=1, vector_size=300, window=5, min_count=3, workers=4)\n",
    "# 模型显示\n",
    "print('模型参数：', model, '\\n')"
   ]
  },
  {
   "cell_type": "code",
   "execution_count": 37,
   "id": "87871b94",
   "metadata": {},
   "outputs": [
    {
     "name": "stdout",
     "output_type": "stream",
     "text": [
      "'环境'的词向量形状： (300,)\n"
     ]
    }
   ],
   "source": [
    "# \"环境\"的词向量形状\n",
    "print(\"'环境'的词向量形状：\", model.wv[\"环境\"].shape)"
   ]
  },
  {
   "cell_type": "code",
   "execution_count": 38,
   "id": "4b13618e",
   "metadata": {},
   "outputs": [
    {
     "name": "stdout",
     "output_type": "stream",
     "text": [
      "'环境'的词向量前10维：\n",
      " [ 0.06339885  0.10320255  0.02506635  0.14051563  0.00850525 -0.15654278\n",
      "  0.00363429  0.3941826  -0.21588925 -0.14054848]\n"
     ]
    }
   ],
   "source": [
    "# \"环境\"的词向量\n",
    "print(\"'环境'的词向量前10维：\\n\", model.wv[\"环境\"][:10])"
   ]
  },
  {
   "cell_type": "code",
   "execution_count": 39,
   "id": "88515b4b",
   "metadata": {},
   "outputs": [
    {
     "name": "stdout",
     "output_type": "stream",
     "text": [
      "和\"好吃\"语义最接近的三个词： [('棒', 0.8262112140655518), ('美味', 0.824298083782196), ('好看', 0.8201115131378174)] \n",
      "\n"
     ]
    }
   ],
   "source": [
    "# 和\"好吃\"语义最接近的三个词\n",
    "print('和\"好吃\"语义最接近的三个词：', model.wv.most_similar('好吃', topn=3), '\\n')"
   ]
  },
  {
   "cell_type": "code",
   "execution_count": 40,
   "id": "abe1f40c",
   "metadata": {},
   "outputs": [
    {
     "name": "stdout",
     "output_type": "stream",
     "text": [
      "\"好吃\"和\"美味\"的相似度为= 0.82429814 \n",
      "\n"
     ]
    }
   ],
   "source": [
    "# \"好吃\"和\"美味\"的相似度\n",
    "print('\"好吃\"和\"美味\"的相似度为=', model.wv.similarity('好吃', '美味'), '\\n')"
   ]
  },
  {
   "cell_type": "code",
   "execution_count": 41,
   "id": "b52703d2",
   "metadata": {},
   "outputs": [
    {
     "name": "stdout",
     "output_type": "stream",
     "text": [
      "\"好吃\"和\"蟑螂\"的相似度为= 0.27469298 \n",
      "\n"
     ]
    }
   ],
   "source": [
    "# \"好吃\"和\"蟑螂\"的相似度\n",
    "print('\"好吃\"和\"蟑螂\"的相似度为=', model.wv.similarity('好吃', '蟑螂'), '\\n')"
   ]
  },
  {
   "cell_type": "code",
   "execution_count": 42,
   "id": "2db4b73b",
   "metadata": {},
   "outputs": [
    {
     "name": "stdout",
     "output_type": "stream",
     "text": [
      "\"餐厅+聚会-安静\"最相关结果： [('家庭聚会', 0.953502893447876)]\n"
     ]
    }
   ],
   "source": [
    "# \"餐厅+聚会-安静\"最相关结果\n",
    "print('\"餐厅+聚会-安静\"最相关结果：', model.wv.most_similar(positive=['餐厅', '聚会'], negative=['安静'], topn=1))"
   ]
  },
  {
   "cell_type": "code",
   "execution_count": null,
   "id": "806002de",
   "metadata": {},
   "outputs": [],
   "source": []
  }
 ],
 "metadata": {
  "kernelspec": {
   "display_name": "nlp_homework_xb",
   "language": "python",
   "name": "nlp_homework_xb"
  },
  "language_info": {
   "codemirror_mode": {
    "name": "ipython",
    "version": 3
   },
   "file_extension": ".py",
   "mimetype": "text/x-python",
   "name": "python",
   "nbconvert_exporter": "python",
   "pygments_lexer": "ipython3",
   "version": "3.9.21"
  }
 },
 "nbformat": 4,
 "nbformat_minor": 5
}
